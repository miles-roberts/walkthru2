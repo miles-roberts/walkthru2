{
 "cells": [
  {
   "cell_type": "markdown",
   "id": "b81b4c46-19b7-49ef-8f92-ab587e388430",
   "metadata": {},
   "source": [
    "### Walkthru sample notebook"
   ]
  },
  {
   "cell_type": "markdown",
   "id": "2820847a-3247-4c9c-88b6-b25b08b910bc",
   "metadata": {},
   "source": [
    "Here is how I calculate '1+1':"
   ]
  },
  {
   "cell_type": "code",
   "execution_count": 2,
   "id": "840e8f6a-6ab2-4371-9d32-d4880d56608b",
   "metadata": {},
   "outputs": [
    {
     "data": {
      "text/plain": [
       "2"
      ]
     },
     "execution_count": 2,
     "metadata": {},
     "output_type": "execute_result"
    }
   ],
   "source": [
    "1+1"
   ]
  },
  {
   "cell_type": "markdown",
   "id": "170b0485-57c7-47b5-88a9-a241d7c4019a",
   "metadata": {
    "tags": []
   },
   "source": [
    "Here is how I calculate 'sin'"
   ]
  },
  {
   "cell_type": "code",
   "execution_count": 3,
   "id": "83d251e1-ec6b-4d59-90ad-d8450da8371f",
   "metadata": {},
   "outputs": [],
   "source": [
    "from numpy import *"
   ]
  },
  {
   "cell_type": "code",
   "execution_count": null,
   "id": "8893c0df-4915-4477-a523-14f5fc3e06fa",
   "metadata": {},
   "outputs": [],
   "source": [
    "sin"
   ]
  }
 ],
 "metadata": {
  "kernelspec": {
   "display_name": "Python 3 (ipykernel)",
   "language": "python",
   "name": "python3"
  },
  "language_info": {
   "codemirror_mode": {
    "name": "ipython",
    "version": 3
   },
   "file_extension": ".py",
   "mimetype": "text/x-python",
   "name": "python",
   "nbconvert_exporter": "python",
   "pygments_lexer": "ipython3",
   "version": "3.10.8"
  }
 },
 "nbformat": 4,
 "nbformat_minor": 5
}
